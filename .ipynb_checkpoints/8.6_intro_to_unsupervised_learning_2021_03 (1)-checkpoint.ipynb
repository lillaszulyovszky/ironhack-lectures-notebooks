{
 "cells": [
  {
   "cell_type": "markdown",
   "id": "112ab6c7",
   "metadata": {},
   "source": [
    "## Applications of Unsupervised learning"
   ]
  },
  {
   "cell_type": "markdown",
   "id": "b101c718",
   "metadata": {},
   "source": [
    "* **Recommender systems**, which involve grouping together users with similar viewing patterns in order to recommend similar content.\n",
    "* **Customer segmentation**, or understanding different customer groups around which to build marketing or other business strategies.\n",
    "* **Genetics**, for example clustering DNA patterns to analyze evolutionary biology.\n",
    "* **Anomaly detection**, including fraud detection or detecting defective mechanical parts (i.e., predictive maintenance).\n",
    "* **Outlier detection** within a data science / data analytics workflow."
   ]
  },
  {
   "cell_type": "markdown",
   "id": "d227baa2",
   "metadata": {},
   "source": [
    "# Let's do some unsupervised learning!"
   ]
  },
  {
   "cell_type": "markdown",
   "id": "01a572dc",
   "metadata": {},
   "source": [
    "**We're doing KMeans clustering**"
   ]
  },
  {
   "cell_type": "code",
   "execution_count": 1,
   "id": "7f54c460",
   "metadata": {},
   "outputs": [],
   "source": [
    "# let's get some data"
   ]
  },
  {
   "cell_type": "code",
   "execution_count": 2,
   "id": "6380a6c3",
   "metadata": {},
   "outputs": [],
   "source": [
    "import pandas as pd"
   ]
  },
  {
   "cell_type": "code",
   "execution_count": null,
   "id": "b6d71f78",
   "metadata": {},
   "outputs": [],
   "source": [
    "from sklearn import datasets"
   ]
  },
  {
   "cell_type": "code",
   "execution_count": null,
   "id": "108ebc2a",
   "metadata": {},
   "outputs": [],
   "source": [
    "data = datasets.load_wine()"
   ]
  },
  {
   "cell_type": "code",
   "execution_count": null,
   "id": "7a9ae179",
   "metadata": {},
   "outputs": [],
   "source": [
    "data.keys()"
   ]
  },
  {
   "cell_type": "code",
   "execution_count": null,
   "id": "b1843030",
   "metadata": {},
   "outputs": [],
   "source": [
    "print(data['DESCR'])"
   ]
  },
  {
   "cell_type": "code",
   "execution_count": null,
   "id": "6377c8b2",
   "metadata": {},
   "outputs": [],
   "source": [
    "data['target']"
   ]
  },
  {
   "cell_type": "code",
   "execution_count": null,
   "id": "f366faa4",
   "metadata": {},
   "outputs": [],
   "source": [
    "data['data']"
   ]
  },
  {
   "cell_type": "code",
   "execution_count": null,
   "id": "ef5710d6",
   "metadata": {},
   "outputs": [],
   "source": [
    "data['data'].shape"
   ]
  },
  {
   "cell_type": "code",
   "execution_count": null,
   "id": "f7629f6c",
   "metadata": {},
   "outputs": [],
   "source": [
    "X = pd.DataFrame(data['data'], columns=data['feature_names'])\n",
    "\n",
    "y = pd.Series(data['target'])"
   ]
  },
  {
   "cell_type": "code",
   "execution_count": null,
   "id": "882a7494",
   "metadata": {},
   "outputs": [],
   "source": [
    "X.head()"
   ]
  },
  {
   "cell_type": "code",
   "execution_count": null,
   "id": "0c864ce6",
   "metadata": {},
   "outputs": [],
   "source": [
    "y.unique()"
   ]
  },
  {
   "cell_type": "code",
   "execution_count": null,
   "id": "67187928",
   "metadata": {},
   "outputs": [],
   "source": [
    "from sklearn.preprocessing import StandardScaler\n",
    "X_prep = StandardScaler().fit_transform(X)"
   ]
  },
  {
   "cell_type": "code",
   "execution_count": null,
   "id": "d9130c64",
   "metadata": {},
   "outputs": [],
   "source": [
    "# dataframe of scaled features\n",
    "X_prep_df = pd.DataFrame(X_prep, columns=data['feature_names'])"
   ]
  },
  {
   "cell_type": "code",
   "execution_count": null,
   "id": "5438e97e",
   "metadata": {},
   "outputs": [],
   "source": [
    "from IPython.display import Image\n",
    "from IPython.core.display import HTML"
   ]
  },
  {
   "cell_type": "code",
   "execution_count": null,
   "id": "a8543386",
   "metadata": {},
   "outputs": [],
   "source": [
    "Image(\"k_means.gif\")"
   ]
  },
  {
   "cell_type": "code",
   "execution_count": null,
   "id": "f96d72cf",
   "metadata": {},
   "outputs": [],
   "source": [
    "from sklearn.cluster import KMeans\n",
    "\n",
    "kmeans = KMeans(n_clusters=8, random_state=1234)\n",
    "kmeans.fit(X_prep_df)"
   ]
  },
  {
   "cell_type": "code",
   "execution_count": null,
   "id": "2ca84451",
   "metadata": {},
   "outputs": [],
   "source": [
    "kmeans.cluster_centers_"
   ]
  },
  {
   "cell_type": "markdown",
   "id": "0ad651a5",
   "metadata": {},
   "source": [
    "## What makes a cluster a \"good\" cluster?"
   ]
  },
  {
   "cell_type": "markdown",
   "id": "48faef39",
   "metadata": {},
   "source": [
    "* **Inertia**, Intuitively, inertia tells how far away the points within a cluster are. Therefore, a small of inertia is aimed for. The range of inertia’s value starts from zero and goes up.\n",
    "\n",
    "* **Silhouette score**, (discuss later), -1 to 1"
   ]
  },
  {
   "cell_type": "code",
   "execution_count": null,
   "id": "88866f8a",
   "metadata": {},
   "outputs": [],
   "source": [
    "Image(\"inertia_plate.jpg\")"
   ]
  },
  {
   "cell_type": "code",
   "execution_count": null,
   "id": "93943ebb",
   "metadata": {},
   "outputs": [],
   "source": [
    "Image(\"inertia_scale.jpg\")"
   ]
  },
  {
   "cell_type": "code",
   "execution_count": null,
   "id": "10267a98",
   "metadata": {},
   "outputs": [],
   "source": [
    "Image(\"inertia_sum_of_squares.png\")"
   ]
  },
  {
   "cell_type": "code",
   "execution_count": null,
   "id": "d52ec48f",
   "metadata": {},
   "outputs": [],
   "source": [
    "# total inertia of all the centroids\n",
    "kmeans.inertia_"
   ]
  },
  {
   "cell_type": "code",
   "execution_count": null,
   "id": "5e6b4d2e",
   "metadata": {},
   "outputs": [],
   "source": [
    "clusters = kmeans.predict(X_prep)\n",
    "clusters"
   ]
  },
  {
   "cell_type": "code",
   "execution_count": null,
   "id": "97ab9788",
   "metadata": {},
   "outputs": [],
   "source": [
    "pd.Series(clusters).value_counts().sort_index()"
   ]
  },
  {
   "cell_type": "code",
   "execution_count": null,
   "id": "6f35b369",
   "metadata": {},
   "outputs": [],
   "source": [
    "kmeans.cluster_centers_"
   ]
  },
  {
   "cell_type": "code",
   "execution_count": null,
   "id": "95e292ed",
   "metadata": {},
   "outputs": [],
   "source": [
    "X_df = pd.DataFrame(X)\n",
    "X_df['cluster'] = clusters\n",
    "X_df.head()"
   ]
  },
  {
   "cell_type": "code",
   "execution_count": null,
   "id": "8acb0a9b",
   "metadata": {},
   "outputs": [],
   "source": [
    "X_df['cluster'].plot(kind='hist')"
   ]
  },
  {
   "cell_type": "markdown",
   "id": "d1c67b6a",
   "metadata": {},
   "source": [
    "```python\n",
    "def get_inertia(n_clusters):\n",
    "    kmeans = KMeans(n_clusters=8, random_state=1234)\n",
    "    \n",
    "    # train your model here\n",
    "    # calculate an inertia\n",
    "    reture kmeans.inertia\n",
    "    \n",
    "cluster_range = range(1,11)\n",
    "\n",
    "dct = {cluster_number:get_inertia(cluster_number) for cluster_number in cluster_range}\n",
    "\n",
    "```"
   ]
  },
  {
   "cell_type": "code",
   "execution_count": null,
   "id": "9a87f191",
   "metadata": {},
   "outputs": [],
   "source": [
    "# I want to iterate over a range of n_clusters and for every value, I want to return the inertia\n",
    "def get_kmeans_inertia_varying_cluster_n(n_clusters):\n",
    "    \n",
    "    # setup the model\n",
    "    kmeans = KMeans(n_clusters=n_clusters,\n",
    "                    random_state=1234,\n",
    "                    n_init=3,\n",
    "                    #algorithm='elkan',\n",
    "                   )\n",
    "    # train the model\n",
    "    kmeans.fit(X_prep_df)\n",
    "    \n",
    "    # return the resulting inertia\n",
    "    return kmeans.inertia_\n",
    "\n",
    "# Plot for a range of cluster numbers\n",
    "import matplotlib.pyplot as plt\n",
    "\n",
    "cluster_range = range(1,20)\n",
    "\n",
    "plt.plot(cluster_range,\n",
    "         [get_kmeans_inertia_varying_cluster_n(c_number) for c_number in cluster_range],\n",
    "         marker=\"o\",\n",
    "         ms=10,\n",
    "        )\n",
    "plt.xlabel('Cluster Number')\n",
    "plt.ylabel('inertia')"
   ]
  },
  {
   "cell_type": "code",
   "execution_count": null,
   "id": "6575df27",
   "metadata": {},
   "outputs": [],
   "source": [
    "# I want to iterate over a range of mx_iter and for every value, I want to return the inertia\n",
    "def get_kmeans_ineratia_varying_max_iter(max_iter):\n",
    "    kmeans = KMeans(n_clusters=5,\n",
    "                    random_state=1234,\n",
    "                    n_init=3,\n",
    "                    algorithm='elkan',\n",
    "                    max_iter=max_iter,\n",
    "                   )\n",
    "    kmeans.fit(X_prep_df)\n",
    "\n",
    "    return kmeans.inertia_\n",
    "\n",
    "max_iter_list = [1, 5, 10, 20, 30, 40, 50, 100]\n",
    "\n",
    "plt.plot(max_iter_list,\n",
    "         [get_kmeans_ineratia_varying_max_iter(x) for x in max_iter_list],\n",
    "        )\n",
    "plt.xlabel('Max iter')\n",
    "plt.ylabel('inertia')"
   ]
  },
  {
   "cell_type": "markdown",
   "id": "c89e5fcf",
   "metadata": {},
   "source": [
    "* **Inertia**, Intuitively, inertia tells how far away the points within a cluster are. Therefore, a small of inertia is aimed for. The range of inertia’s value starts from zero and goes up.\n",
    "\n",
    "* **Silhouette score**, (discuss later), -1 to 1"
   ]
  },
  {
   "cell_type": "markdown",
   "id": "34396881",
   "metadata": {},
   "source": [
    "* Sci-kit learn explanation how to read [silhouette plots](https://scikit-learn.org/stable/auto_examples/cluster/plot_kmeans_silhouette_analysis.html)\n",
    "* Inertia was the metric that KMeans used to find the optimum centroids\n",
    "* but it does **not have a limited range** (as the Mean Squared Error has, it's in units of the distances)\n",
    "* ranges from 0 to ...\n",
    "* a score that is **not really comparable**\n",
    "* what Silhouette score does: **how similar is an observation to its own cluster compared to other clusters**\n",
    "* $S_i = \\frac{(b_i - a_i)}{\\text{max}(a_i,b_i)}$\n",
    "    * `a`: mean intra-cluster distance (the average distance between the i-th observation and every other observation in the cluster where i belongs to)\n",
    "    * `b`: the mean **nearest** inter cluster distance (the average distance between the i_th observation of the nearest cluster that i is **not part of**)\n",
    "    \n",
    "* The **silhouette score for the whole model** is the **average** of all the silhouette scores of each instance.\n",
    "\n",
    "Well separated clusters:\n",
    "* `a` - the mean intra cluster distance is relatively small compared to\n",
    "* `b` - the mean inter cluster distance that the points are not part of\n",
    "* that means $S = (b - a) / max(a,b)$ approaches 1\n",
    "\n",
    "Not so well separated clusters:\n",
    "* `a` - the mean intra cluster distance is not so small (relatively) compared to\n",
    "* `b` - the mean inter cluster distance that the points are not part of\n",
    "* that means $S = (b - a) / max(a,b)$ becomes smaller and smaller (approaches 0 when b=a)\n",
    "* S becomes negative for a point, which is not (yet) in the right cluster (too less iterations? play with tolerance. Or random effect - increase n_init?)"
   ]
  },
  {
   "cell_type": "code",
   "execution_count": null,
   "id": "878869f7",
   "metadata": {},
   "outputs": [],
   "source": [
    "from sklearn.metrics import silhouette_score\n",
    "\n",
    "K = range(2, 20)\n",
    "\n",
    "silhouettes = []\n",
    "\n",
    "for k in K:\n",
    "    kmeans = KMeans(n_clusters=k,\n",
    "                   random_state=1234)\n",
    "    kmeans.fit(X_prep)\n",
    "    silhouettes.append(silhouette_score(X_prep, kmeans.predict(X_prep)))\n"
   ]
  },
  {
   "cell_type": "code",
   "execution_count": null,
   "id": "30ad5c65",
   "metadata": {},
   "outputs": [],
   "source": [
    "import matplotlib.pyplot as plt\n",
    "\n",
    "\n",
    "plt.figure(figsize=(16,8))\n",
    "plt.plot(K, silhouettes, 'bo-')\n",
    "plt.xlabel('k (number of clusters)')\n",
    "plt.ylabel('silhouette score')"
   ]
  },
  {
   "cell_type": "code",
   "execution_count": null,
   "id": "cb1edb08",
   "metadata": {},
   "outputs": [],
   "source": [
    "\"\"\" doesnt work, check the environment\n",
    "\n",
    "from yellowbrick.cluster import SilhouetteVisualizer\n",
    "\n",
    "fig, ax = plt.subplots(2, 2, figsize=(15,8))\n",
    "for k in [2, 3, 4, 5]:\n",
    "    '''\n",
    "    Create KMeans instance for different number of clusters\n",
    "    '''\n",
    "    km = KMeans(n_clusters=k,\n",
    "                random_state=1234)\n",
    "    q, mod = divmod(k, 2)\n",
    "    '''\n",
    "    Create SilhouetteVisualizer instance with KMeans instance\n",
    "    Fit the visualizer\n",
    "    '''\n",
    "    \n",
    "    visualizer = SilhouetteVisualizer(km, colors='yellowbrick', ax=ax[q-1][mod])\n",
    "    visualizer.fit(X_prep)\n",
    "\"\"\""
   ]
  },
  {
   "cell_type": "markdown",
   "id": "5094649f",
   "metadata": {},
   "source": [
    "# LEt's visualize the result!"
   ]
  },
  {
   "cell_type": "code",
   "execution_count": null,
   "id": "4bf25a07",
   "metadata": {},
   "outputs": [],
   "source": [
    "kmeans = KMeans(n_clusters=3,\n",
    "             random_state=1234)\n",
    "\n",
    "kmeans.fit(X_prep)\n",
    "\n",
    "clusters = kmeans.predict(X_prep)\n",
    "clusters"
   ]
  },
  {
   "cell_type": "code",
   "execution_count": null,
   "id": "5198e584",
   "metadata": {},
   "outputs": [],
   "source": [
    "clusters.shape"
   ]
  },
  {
   "cell_type": "code",
   "execution_count": null,
   "id": "50d51f61",
   "metadata": {},
   "outputs": [],
   "source": [
    "wines_clustered = pd.DataFrame(X_prep, columns=data['feature_names'])"
   ]
  },
  {
   "cell_type": "code",
   "execution_count": null,
   "id": "c4269c43",
   "metadata": {},
   "outputs": [],
   "source": [
    "wines_clustered['cluster_id'] = clusters"
   ]
  },
  {
   "cell_type": "code",
   "execution_count": null,
   "id": "ed8a94f2",
   "metadata": {},
   "outputs": [],
   "source": [
    "wines_clustered.head()"
   ]
  },
  {
   "cell_type": "code",
   "execution_count": null,
   "id": "d3cf8f88",
   "metadata": {},
   "outputs": [],
   "source": [
    "wines_clustered['cluster_id'].value_counts()"
   ]
  },
  {
   "cell_type": "code",
   "execution_count": null,
   "id": "e822bdf5",
   "metadata": {},
   "outputs": [],
   "source": [
    "kmeans.cluster_centers_"
   ]
  },
  {
   "cell_type": "code",
   "execution_count": null,
   "id": "86781791",
   "metadata": {},
   "outputs": [],
   "source": [
    "cluster_centers_df = pd.DataFrame(kmeans.cluster_centers_, columns=data['feature_names'])"
   ]
  },
  {
   "cell_type": "code",
   "execution_count": null,
   "id": "daa4ed49",
   "metadata": {},
   "outputs": [],
   "source": [
    "cluster_centers_df"
   ]
  },
  {
   "cell_type": "code",
   "execution_count": null,
   "id": "a56f32ad",
   "metadata": {},
   "outputs": [],
   "source": [
    "cluster_centers_df['cluster_id'] = range(0,3)"
   ]
  },
  {
   "cell_type": "code",
   "execution_count": null,
   "id": "aa16bd06",
   "metadata": {},
   "outputs": [],
   "source": [
    "cluster_centers_df"
   ]
  },
  {
   "cell_type": "code",
   "execution_count": null,
   "id": "0758c430",
   "metadata": {},
   "outputs": [],
   "source": [
    "# this contains my cluster centers\n",
    "cluster_center_sub_df = cluster_centers_df[['alcohol', 'color_intensity', 'cluster_id']]\n",
    "\n",
    "# this cointains my datapoints with the determined\n",
    "wines_clustered_sub_df= wines_clustered[['alcohol', 'color_intensity', 'cluster_id']]"
   ]
  },
  {
   "cell_type": "code",
   "execution_count": null,
   "id": "57a1bd4e",
   "metadata": {},
   "outputs": [],
   "source": [
    "cluster_center_sub_df"
   ]
  },
  {
   "cell_type": "code",
   "execution_count": null,
   "id": "5315480f",
   "metadata": {},
   "outputs": [],
   "source": [
    "wines_clustered_sub_df"
   ]
  },
  {
   "cell_type": "code",
   "execution_count": null,
   "id": "31d8a798",
   "metadata": {},
   "outputs": [],
   "source": [
    "import seaborn as sns\n",
    "\n",
    "sns.scatterplot(data=wines_clustered_sub_df,\n",
    "               x='alcohol',\n",
    "               y='color_intensity',\n",
    "               hue='cluster_id')\n",
    "\n",
    "# plot centroids\n",
    "sns.scatterplot(data=cluster_center_sub_df,\n",
    "               x=\"alcohol\",\n",
    "               y=\"color_intensity\",\n",
    "               hue='cluster_id',\n",
    "                legend=False,\n",
    "                # marker=u'8',\n",
    "                marker='+',\n",
    "                s=500,\n",
    "               )"
   ]
  },
  {
   "cell_type": "code",
   "execution_count": null,
   "id": "52196dee",
   "metadata": {},
   "outputs": [],
   "source": [
    "wines2 = wines_clustered[wines_clustered['cluster_id']==2]"
   ]
  },
  {
   "cell_type": "code",
   "execution_count": null,
   "id": "9f0dafee",
   "metadata": {},
   "outputs": [],
   "source": [
    "X['cluster_id'] = wines_clustered['cluster_id']"
   ]
  },
  {
   "cell_type": "code",
   "execution_count": null,
   "id": "764d857b",
   "metadata": {},
   "outputs": [],
   "source": [
    "for col in X.columns:\n",
    "    X[col].plot(kind='box')"
   ]
  },
  {
   "cell_type": "code",
   "execution_count": null,
   "id": "f146d49a",
   "metadata": {},
   "outputs": [],
   "source": []
  }
 ],
 "metadata": {
  "kernelspec": {
   "display_name": "Python 3",
   "language": "python",
   "name": "python3"
  },
  "language_info": {
   "codemirror_mode": {
    "name": "ipython",
    "version": 3
   },
   "file_extension": ".py",
   "mimetype": "text/x-python",
   "name": "python",
   "nbconvert_exporter": "python",
   "pygments_lexer": "ipython3",
   "version": "3.8.5"
  }
 },
 "nbformat": 4,
 "nbformat_minor": 5
}
