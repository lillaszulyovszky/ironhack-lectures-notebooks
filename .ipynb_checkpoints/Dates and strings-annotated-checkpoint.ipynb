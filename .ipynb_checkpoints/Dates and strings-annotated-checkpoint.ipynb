{
 "cells": [
  {
   "cell_type": "markdown",
   "metadata": {},
   "source": [
    "# dates and strings - what you need to know "
   ]
  },
  {
   "cell_type": "raw",
   "metadata": {},
   "source": [
    "Working with datetime format\n",
    "Standardizing input \n",
    "Using string functions"
   ]
  },
  {
   "cell_type": "code",
   "execution_count": 1,
   "metadata": {},
   "outputs": [],
   "source": [
    "import pandas as pd"
   ]
  },
  {
   "cell_type": "code",
   "execution_count": 2,
   "metadata": {},
   "outputs": [],
   "source": [
    "import numpy as np"
   ]
  },
  {
   "cell_type": "markdown",
   "metadata": {},
   "source": [
    "### to work with dates, we need a data set that contains dates"
   ]
  },
  {
   "cell_type": "code",
   "execution_count": 3,
   "metadata": {},
   "outputs": [
    {
     "data": {
      "text/plain": [
       "web_id           int64\n",
       "client_id        int64\n",
       "visitor_id      object\n",
       "visit_id        object\n",
       "process_step    object\n",
       "date_time       object\n",
       "dtype: object"
      ]
     },
     "execution_count": 3,
     "metadata": {},
     "output_type": "execute_result"
    }
   ],
   "source": [
    "file = pd.read_csv('web_data.csv')\n",
    "file.dtypes"
   ]
  },
  {
   "cell_type": "code",
   "execution_count": 4,
   "metadata": {},
   "outputs": [
    {
     "data": {
      "text/html": [
       "<div>\n",
       "<style scoped>\n",
       "    .dataframe tbody tr th:only-of-type {\n",
       "        vertical-align: middle;\n",
       "    }\n",
       "\n",
       "    .dataframe tbody tr th {\n",
       "        vertical-align: top;\n",
       "    }\n",
       "\n",
       "    .dataframe thead th {\n",
       "        text-align: right;\n",
       "    }\n",
       "</style>\n",
       "<table border=\"1\" class=\"dataframe\">\n",
       "  <thead>\n",
       "    <tr style=\"text-align: right;\">\n",
       "      <th></th>\n",
       "      <th>web_id</th>\n",
       "      <th>client_id</th>\n",
       "      <th>visitor_id</th>\n",
       "      <th>visit_id</th>\n",
       "      <th>process_step</th>\n",
       "      <th>date_time</th>\n",
       "    </tr>\n",
       "  </thead>\n",
       "  <tbody>\n",
       "    <tr>\n",
       "      <th>0</th>\n",
       "      <td>0</td>\n",
       "      <td>9988021</td>\n",
       "      <td>580560515_7732621733</td>\n",
       "      <td>781255054_21935453173_531117</td>\n",
       "      <td>step_3</td>\n",
       "      <td>4/17/17 15:27</td>\n",
       "    </tr>\n",
       "    <tr>\n",
       "      <th>1</th>\n",
       "      <td>1</td>\n",
       "      <td>9988021</td>\n",
       "      <td>580560515_7732621733</td>\n",
       "      <td>781255054_21935453173_531117</td>\n",
       "      <td>step_2</td>\n",
       "      <td>4/17/17 15:26</td>\n",
       "    </tr>\n",
       "    <tr>\n",
       "      <th>2</th>\n",
       "      <td>2</td>\n",
       "      <td>9988021</td>\n",
       "      <td>580560515_7732621733</td>\n",
       "      <td>781255054_21935453173_531117</td>\n",
       "      <td>step_3</td>\n",
       "      <td>4/17/17 15:19</td>\n",
       "    </tr>\n",
       "    <tr>\n",
       "      <th>3</th>\n",
       "      <td>3</td>\n",
       "      <td>9988021</td>\n",
       "      <td>580560515_7732621733</td>\n",
       "      <td>781255054_21935453173_531117</td>\n",
       "      <td>step_2</td>\n",
       "      <td>4/17/17 15:19</td>\n",
       "    </tr>\n",
       "    <tr>\n",
       "      <th>4</th>\n",
       "      <td>4</td>\n",
       "      <td>9988021</td>\n",
       "      <td>580560515_7732621733</td>\n",
       "      <td>781255054_21935453173_531117</td>\n",
       "      <td>step_3</td>\n",
       "      <td>4/17/17 15:18</td>\n",
       "    </tr>\n",
       "  </tbody>\n",
       "</table>\n",
       "</div>"
      ],
      "text/plain": [
       "   web_id  client_id            visitor_id                      visit_id  \\\n",
       "0       0    9988021  580560515_7732621733  781255054_21935453173_531117   \n",
       "1       1    9988021  580560515_7732621733  781255054_21935453173_531117   \n",
       "2       2    9988021  580560515_7732621733  781255054_21935453173_531117   \n",
       "3       3    9988021  580560515_7732621733  781255054_21935453173_531117   \n",
       "4       4    9988021  580560515_7732621733  781255054_21935453173_531117   \n",
       "\n",
       "  process_step      date_time  \n",
       "0       step_3  4/17/17 15:27  \n",
       "1       step_2  4/17/17 15:26  \n",
       "2       step_3  4/17/17 15:19  \n",
       "3       step_2  4/17/17 15:19  \n",
       "4       step_3  4/17/17 15:18  "
      ]
     },
     "execution_count": 4,
     "metadata": {},
     "output_type": "execute_result"
    }
   ],
   "source": [
    "#use head to review the file \n",
    "file.head()"
   ]
  },
  {
   "cell_type": "code",
   "execution_count": 5,
   "metadata": {},
   "outputs": [],
   "source": [
    "#convert the date_time column to be read as a datetime data type \n",
    "file['date_time'] = pd.to_datetime(file['date_time'], errors='coerce')"
   ]
  },
  {
   "cell_type": "code",
   "execution_count": 6,
   "metadata": {},
   "outputs": [
    {
     "data": {
      "text/html": [
       "<div>\n",
       "<style scoped>\n",
       "    .dataframe tbody tr th:only-of-type {\n",
       "        vertical-align: middle;\n",
       "    }\n",
       "\n",
       "    .dataframe tbody tr th {\n",
       "        vertical-align: top;\n",
       "    }\n",
       "\n",
       "    .dataframe thead th {\n",
       "        text-align: right;\n",
       "    }\n",
       "</style>\n",
       "<table border=\"1\" class=\"dataframe\">\n",
       "  <thead>\n",
       "    <tr style=\"text-align: right;\">\n",
       "      <th></th>\n",
       "      <th>web_id</th>\n",
       "      <th>client_id</th>\n",
       "      <th>visitor_id</th>\n",
       "      <th>visit_id</th>\n",
       "      <th>process_step</th>\n",
       "      <th>date_time</th>\n",
       "    </tr>\n",
       "  </thead>\n",
       "  <tbody>\n",
       "    <tr>\n",
       "      <th>0</th>\n",
       "      <td>0</td>\n",
       "      <td>9988021</td>\n",
       "      <td>580560515_7732621733</td>\n",
       "      <td>781255054_21935453173_531117</td>\n",
       "      <td>step_3</td>\n",
       "      <td>2017-04-17 15:27:00</td>\n",
       "    </tr>\n",
       "    <tr>\n",
       "      <th>1</th>\n",
       "      <td>1</td>\n",
       "      <td>9988021</td>\n",
       "      <td>580560515_7732621733</td>\n",
       "      <td>781255054_21935453173_531117</td>\n",
       "      <td>step_2</td>\n",
       "      <td>2017-04-17 15:26:00</td>\n",
       "    </tr>\n",
       "    <tr>\n",
       "      <th>2</th>\n",
       "      <td>2</td>\n",
       "      <td>9988021</td>\n",
       "      <td>580560515_7732621733</td>\n",
       "      <td>781255054_21935453173_531117</td>\n",
       "      <td>step_3</td>\n",
       "      <td>2017-04-17 15:19:00</td>\n",
       "    </tr>\n",
       "    <tr>\n",
       "      <th>3</th>\n",
       "      <td>3</td>\n",
       "      <td>9988021</td>\n",
       "      <td>580560515_7732621733</td>\n",
       "      <td>781255054_21935453173_531117</td>\n",
       "      <td>step_2</td>\n",
       "      <td>2017-04-17 15:19:00</td>\n",
       "    </tr>\n",
       "    <tr>\n",
       "      <th>4</th>\n",
       "      <td>4</td>\n",
       "      <td>9988021</td>\n",
       "      <td>580560515_7732621733</td>\n",
       "      <td>781255054_21935453173_531117</td>\n",
       "      <td>step_3</td>\n",
       "      <td>2017-04-17 15:18:00</td>\n",
       "    </tr>\n",
       "    <tr>\n",
       "      <th>5</th>\n",
       "      <td>5</td>\n",
       "      <td>9988021</td>\n",
       "      <td>580560515_7732621733</td>\n",
       "      <td>781255054_21935453173_531117</td>\n",
       "      <td>step_2</td>\n",
       "      <td>2017-04-17 15:17:00</td>\n",
       "    </tr>\n",
       "    <tr>\n",
       "      <th>6</th>\n",
       "      <td>6</td>\n",
       "      <td>9988021</td>\n",
       "      <td>580560515_7732621733</td>\n",
       "      <td>781255054_21935453173_531117</td>\n",
       "      <td>step_1</td>\n",
       "      <td>2017-04-17 15:17:00</td>\n",
       "    </tr>\n",
       "    <tr>\n",
       "      <th>7</th>\n",
       "      <td>7</td>\n",
       "      <td>9988021</td>\n",
       "      <td>580560515_7732621733</td>\n",
       "      <td>781255054_21935453173_531117</td>\n",
       "      <td>start</td>\n",
       "      <td>2017-04-17 15:16:00</td>\n",
       "    </tr>\n",
       "    <tr>\n",
       "      <th>8</th>\n",
       "      <td>8</td>\n",
       "      <td>8320017</td>\n",
       "      <td>39393514_33118319366</td>\n",
       "      <td>960651974_70596002104_312201</td>\n",
       "      <td>confirm</td>\n",
       "      <td>2017-04-05 13:10:00</td>\n",
       "    </tr>\n",
       "    <tr>\n",
       "      <th>9</th>\n",
       "      <td>9</td>\n",
       "      <td>8320017</td>\n",
       "      <td>39393514_33118319366</td>\n",
       "      <td>960651974_70596002104_312201</td>\n",
       "      <td>step_3</td>\n",
       "      <td>2017-04-05 13:09:00</td>\n",
       "    </tr>\n",
       "    <tr>\n",
       "      <th>10</th>\n",
       "      <td>10</td>\n",
       "      <td>8320017</td>\n",
       "      <td>39393514_33118319366</td>\n",
       "      <td>960651974_70596002104_312201</td>\n",
       "      <td>step_2</td>\n",
       "      <td>2017-04-05 13:08:00</td>\n",
       "    </tr>\n",
       "    <tr>\n",
       "      <th>11</th>\n",
       "      <td>11</td>\n",
       "      <td>8320017</td>\n",
       "      <td>39393514_33118319366</td>\n",
       "      <td>960651974_70596002104_312201</td>\n",
       "      <td>step_1</td>\n",
       "      <td>2017-04-05 13:08:00</td>\n",
       "    </tr>\n",
       "  </tbody>\n",
       "</table>\n",
       "</div>"
      ],
      "text/plain": [
       "    web_id  client_id            visitor_id                      visit_id  \\\n",
       "0        0    9988021  580560515_7732621733  781255054_21935453173_531117   \n",
       "1        1    9988021  580560515_7732621733  781255054_21935453173_531117   \n",
       "2        2    9988021  580560515_7732621733  781255054_21935453173_531117   \n",
       "3        3    9988021  580560515_7732621733  781255054_21935453173_531117   \n",
       "4        4    9988021  580560515_7732621733  781255054_21935453173_531117   \n",
       "5        5    9988021  580560515_7732621733  781255054_21935453173_531117   \n",
       "6        6    9988021  580560515_7732621733  781255054_21935453173_531117   \n",
       "7        7    9988021  580560515_7732621733  781255054_21935453173_531117   \n",
       "8        8    8320017  39393514_33118319366  960651974_70596002104_312201   \n",
       "9        9    8320017  39393514_33118319366  960651974_70596002104_312201   \n",
       "10      10    8320017  39393514_33118319366  960651974_70596002104_312201   \n",
       "11      11    8320017  39393514_33118319366  960651974_70596002104_312201   \n",
       "\n",
       "   process_step           date_time  \n",
       "0        step_3 2017-04-17 15:27:00  \n",
       "1        step_2 2017-04-17 15:26:00  \n",
       "2        step_3 2017-04-17 15:19:00  \n",
       "3        step_2 2017-04-17 15:19:00  \n",
       "4        step_3 2017-04-17 15:18:00  \n",
       "5        step_2 2017-04-17 15:17:00  \n",
       "6        step_1 2017-04-17 15:17:00  \n",
       "7         start 2017-04-17 15:16:00  \n",
       "8       confirm 2017-04-05 13:10:00  \n",
       "9        step_3 2017-04-05 13:09:00  \n",
       "10       step_2 2017-04-05 13:08:00  \n",
       "11       step_1 2017-04-05 13:08:00  "
      ]
     },
     "execution_count": 6,
     "metadata": {},
     "output_type": "execute_result"
    }
   ],
   "source": [
    "#use head() to review the first 12 rows of the file\n",
    "file.head(12)"
   ]
  },
  {
   "cell_type": "code",
   "execution_count": null,
   "metadata": {},
   "outputs": [],
   "source": [
    "#use dtypes to see the new date time data type \n"
   ]
  },
  {
   "cell_type": "code",
   "execution_count": null,
   "metadata": {},
   "outputs": [],
   "source": [
    "#use the day month year and index to check the month and day of the first row eg file['date_time'][0].year\n"
   ]
  },
  {
   "cell_type": "code",
   "execution_count": null,
   "metadata": {},
   "outputs": [],
   "source": [
    "#pull out the time \n",
    "file['date_time'][0].time()"
   ]
  },
  {
   "cell_type": "code",
   "execution_count": null,
   "metadata": {},
   "outputs": [],
   "source": [
    "#reformat the date - example 1\n",
    "file['date_time'][0].strftime(format='%d-%M-%Y')"
   ]
  },
  {
   "cell_type": "code",
   "execution_count": null,
   "metadata": {},
   "outputs": [],
   "source": [
    "#reformat the date - example 2\n",
    "file['date_time'][0].strftime(format=\"%A %d. %B %Y\")"
   ]
  },
  {
   "cell_type": "code",
   "execution_count": null,
   "metadata": {},
   "outputs": [],
   "source": [
    "#create a filtered data frame by a particular date \n",
    "Apr_5 = file[file['date_time'] == '2017-04-05']"
   ]
  },
  {
   "cell_type": "code",
   "execution_count": null,
   "metadata": {},
   "outputs": [],
   "source": [
    "Apr_5.head()"
   ]
  },
  {
   "cell_type": "code",
   "execution_count": null,
   "metadata": {},
   "outputs": [],
   "source": [
    "#add a month column \n",
    "file['Month'] = pd.DatetimeIndex(file['date_time']).month"
   ]
  },
  {
   "cell_type": "code",
   "execution_count": null,
   "metadata": {},
   "outputs": [],
   "source": [
    "#add a day column \n",
    "file['Day'] = pd.DatetimeIndex(file['date_time']).day"
   ]
  },
  {
   "cell_type": "code",
   "execution_count": null,
   "metadata": {
    "scrolled": true
   },
   "outputs": [],
   "source": [
    "#Review the data frame with head() \n"
   ]
  },
  {
   "cell_type": "code",
   "execution_count": null,
   "metadata": {},
   "outputs": [],
   "source": [
    "#filter by a particular day \n",
    "file.query('Day==\"5\"')"
   ]
  },
  {
   "cell_type": "code",
   "execution_count": null,
   "metadata": {},
   "outputs": [],
   "source": [
    "#challenge - filter the df for saturdays\n",
    "\n",
    "\n",
    "\n"
   ]
  },
  {
   "cell_type": "code",
   "execution_count": null,
   "metadata": {},
   "outputs": [],
   "source": [
    "file.loc[file['date_time'].dt.weekday == 5]"
   ]
  },
  {
   "cell_type": "markdown",
   "metadata": {},
   "source": [
    "### Relative time "
   ]
  },
  {
   "cell_type": "code",
   "execution_count": null,
   "metadata": {},
   "outputs": [],
   "source": [
    "import time\n",
    "from datetime import date\n",
    "today = date.today()\n",
    "today"
   ]
  },
  {
   "cell_type": "code",
   "execution_count": null,
   "metadata": {},
   "outputs": [],
   "source": [
    "import time\n"
   ]
  },
  {
   "cell_type": "code",
   "execution_count": null,
   "metadata": {},
   "outputs": [],
   "source": [
    "#your local time \n",
    "time.localtime(time.time())"
   ]
  },
  {
   "cell_type": "code",
   "execution_count": null,
   "metadata": {},
   "outputs": [],
   "source": [
    "#current time in london\n",
    "time.gmtime(time.time())"
   ]
  },
  {
   "cell_type": "raw",
   "metadata": {},
   "source": [
    "https://docs.python.org/3/library/time.html\n",
    "\n",
    "Directive and their Meaning\n",
    "\n",
    "%a Locale’s abbreviated weekday name.\n",
    "%A Locale’s full weekday name.\n",
    "%b Locale’s abbreviated month name.\n",
    "%B Locale’s full month name.\n",
    "%c Locale’s appropriate date and time representation.\n",
    "%d Day of the month as a decimal number [01,31].\n",
    "%H Hour (24-hour clock) as a decimal number [00,23].\n",
    "%I Hour (12-hour clock) as a decimal number [01,12].\n",
    "%j Day of the year as a decimal number [001,366].\n",
    "%m Month as a decimal number [01,12].\n",
    "%M Minute as a decimal number [00,59].\n",
    "%p Locale’s equivalent of either AM or PM.\n",
    "%S Second as a decimal number [00,61].\n",
    "%U Week number of the year (Sunday as the first day of the week) as a decimal number [00,53]. All days in a new year preceding the first Sunday are considered to be in week 0.\n",
    "%w Weekday as a decimal number [0(Sunday),6].\n",
    "%W Week number of the year (Monday as the first day of the week) as a decimal number [00,53]. All days in a new year preceding the first Monday are considered to be in week 0\n",
    "%x Locale’s appropriate date representation.\n",
    "%X Locale’s appropriate time representation.\n",
    "%y Year without century as a decimal number [00,99].\n",
    "%Y Year with century as a decimal number.\n",
    "%z Time zone offset indicating a positive or negative time difference from UTC/GMT of the form +HHMM or -HHMM, where H represents decimal hour digits and M represents decimal minute digits [-23:59, +23:59].\n",
    "%Z Time zone name (no characters if no time zone exists).\n",
    "%% A literal '%' character."
   ]
  },
  {
   "cell_type": "markdown",
   "metadata": {},
   "source": [
    "# String functions"
   ]
  },
  {
   "cell_type": "code",
   "execution_count": null,
   "metadata": {},
   "outputs": [],
   "source": [
    "\n",
    "# https://docs.python.org/2.5/lib/string-methods.html"
   ]
  },
  {
   "cell_type": "code",
   "execution_count": null,
   "metadata": {},
   "outputs": [],
   "source": [
    "string = \" I am learning  data  analysis at Ironhack  . It is  the BEST! \"\n"
   ]
  },
  {
   "cell_type": "code",
   "execution_count": null,
   "metadata": {},
   "outputs": [],
   "source": [
    "string.lower()"
   ]
  },
  {
   "cell_type": "code",
   "execution_count": null,
   "metadata": {},
   "outputs": [],
   "source": [
    "string.upper()"
   ]
  },
  {
   "cell_type": "code",
   "execution_count": null,
   "metadata": {},
   "outputs": [],
   "source": [
    "#we can identify numbers in strings \n",
    "'34'.isdigit() # hint: this does not work with decimal numbers"
   ]
  },
  {
   "cell_type": "code",
   "execution_count": null,
   "metadata": {},
   "outputs": [],
   "source": [
    "subjects='data science, coding  , python, visualisation '"
   ]
  },
  {
   "cell_type": "code",
   "execution_count": null,
   "metadata": {},
   "outputs": [],
   "source": [
    "#using a basic split around the comma \n",
    "subjects.split(', ')"
   ]
  },
  {
   "cell_type": "code",
   "execution_count": null,
   "metadata": {},
   "outputs": [],
   "source": [
    "#combine split on column with trim of whitespace\n",
    "pieces = [x.strip() for x in subjects.split(',')]\n",
    "pieces"
   ]
  },
  {
   "cell_type": "code",
   "execution_count": null,
   "metadata": {},
   "outputs": [],
   "source": [
    "#keyword search \n",
    "'data science' in subjects"
   ]
  },
  {
   "cell_type": "code",
   "execution_count": null,
   "metadata": {},
   "outputs": [],
   "source": [
    "str='data scientists too'"
   ]
  },
  {
   "cell_type": "code",
   "execution_count": null,
   "metadata": {},
   "outputs": [],
   "source": [
    "#isolate part of a string using index \n",
    "str[5:-4]"
   ]
  },
  {
   "cell_type": "code",
   "execution_count": null,
   "metadata": {},
   "outputs": [],
   "source": [
    "#replace\n",
    "'its hard playing with strings'.replace('hard','brilliant')"
   ]
  },
  {
   "cell_type": "code",
   "execution_count": null,
   "metadata": {},
   "outputs": [],
   "source": [
    "#use left strip to remove characters \n",
    "text=\"..ssshhh..,,,,aaaahsdata\"\n",
    "x = text.lstrip(\".,ash\")\n",
    "x"
   ]
  },
  {
   "cell_type": "code",
   "execution_count": null,
   "metadata": {},
   "outputs": [],
   "source": [
    "#use left strip to remove leading white space\n",
    "text2=\"     whoami?\"\n",
    "y= text2.lstrip()\n",
    "y"
   ]
  },
  {
   "cell_type": "code",
   "execution_count": null,
   "metadata": {},
   "outputs": [],
   "source": [
    "#substring count \n",
    "my_string = \"How many fruits do you have in your fruit basket?\"\n",
    "my_string.count(\"fruit\")"
   ]
  },
  {
   "cell_type": "code",
   "execution_count": null,
   "metadata": {},
   "outputs": [],
   "source": []
  }
 ],
 "metadata": {
  "kernelspec": {
   "display_name": "Python 3",
   "language": "python",
   "name": "python3"
  },
  "language_info": {
   "codemirror_mode": {
    "name": "ipython",
    "version": 3
   },
   "file_extension": ".py",
   "mimetype": "text/x-python",
   "name": "python",
   "nbconvert_exporter": "python",
   "pygments_lexer": "ipython3",
   "version": "3.8.5"
  }
 },
 "nbformat": 4,
 "nbformat_minor": 2
}
