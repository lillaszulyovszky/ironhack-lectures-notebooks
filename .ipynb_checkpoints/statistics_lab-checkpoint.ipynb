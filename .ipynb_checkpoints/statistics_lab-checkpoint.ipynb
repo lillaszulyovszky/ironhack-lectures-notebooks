{
 "cells": [
  {
   "cell_type": "code",
   "execution_count": 17,
   "id": "continental-ethics",
   "metadata": {},
   "outputs": [],
   "source": [
    "from scipy.stats import ttest_1samp"
   ]
  },
  {
   "cell_type": "code",
   "execution_count": 18,
   "id": "other-bikini",
   "metadata": {},
   "outputs": [],
   "source": [
    "from scipy.stats import norm"
   ]
  },
  {
   "cell_type": "code",
   "execution_count": 19,
   "id": "guided-camera",
   "metadata": {},
   "outputs": [],
   "source": [
    "import math"
   ]
  },
  {
   "cell_type": "code",
   "execution_count": 20,
   "id": "expanded-birthday",
   "metadata": {},
   "outputs": [],
   "source": [
    "from scipy.stats import t"
   ]
  },
  {
   "cell_type": "code",
   "execution_count": 21,
   "id": "manufactured-carpet",
   "metadata": {},
   "outputs": [],
   "source": [
    "# calculate the test statistic for our sample\n",
    "\n",
    "# first define the numbers\n",
    "\n",
    "sample_mean = 80.94\n",
    "\n",
    "pop_mean = 85\n",
    "\n",
    "sampl_std = 11.6\n",
    "\n",
    "n=25"
   ]
  },
  {
   "cell_type": "code",
   "execution_count": 22,
   "id": "funny-terrorist",
   "metadata": {},
   "outputs": [
    {
     "data": {
      "text/plain": [
       "-1.7146428199482255"
      ]
     },
     "execution_count": 22,
     "metadata": {},
     "output_type": "execute_result"
    }
   ],
   "source": [
    "statistic = (sample_mean - pop_mean)/(sampl_std/math.sqrt(n-1))\n",
    "statistic"
   ]
  },
  {
   "cell_type": "raw",
   "id": "sound-asbestos",
   "metadata": {},
   "source": [
    "#  \n",
    "critical_value \n",
    "critical_value"
   ]
  },
  {
   "cell_type": "code",
   "execution_count": null,
   "id": "laughing-optimization",
   "metadata": {},
   "outputs": [],
   "source": []
  }
 ],
 "metadata": {
  "kernelspec": {
   "display_name": "Python 3",
   "language": "python",
   "name": "python3"
  },
  "language_info": {
   "codemirror_mode": {
    "name": "ipython",
    "version": 3
   },
   "file_extension": ".py",
   "mimetype": "text/x-python",
   "name": "python",
   "nbconvert_exporter": "python",
   "pygments_lexer": "ipython3",
   "version": "3.8.5"
  }
 },
 "nbformat": 4,
 "nbformat_minor": 5
}
