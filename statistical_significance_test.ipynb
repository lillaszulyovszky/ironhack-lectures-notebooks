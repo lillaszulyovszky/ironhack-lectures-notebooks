{
 "cells": [
  {
   "cell_type": "code",
   "execution_count": 5,
   "id": "representative-monster",
   "metadata": {},
   "outputs": [],
   "source": [
    "from scipy.stats import ttest_1samp"
   ]
  },
  {
   "cell_type": "code",
   "execution_count": 4,
   "id": "becoming-degree",
   "metadata": {},
   "outputs": [],
   "source": [
    "from scipy.stats import norm #(z distribution)"
   ]
  },
  {
   "cell_type": "code",
   "execution_count": 6,
   "id": "accessible-headset",
   "metadata": {},
   "outputs": [],
   "source": [
    "import math"
   ]
  },
  {
   "cell_type": "code",
   "execution_count": 7,
   "id": "cognitive-semiconductor",
   "metadata": {},
   "outputs": [],
   "source": [
    "from scipy.stats import t"
   ]
  },
  {
   "cell_type": "markdown",
   "id": "developing-input",
   "metadata": {},
   "source": [
    "### we will perform a one sided test, using the z distribution, to see if the sample mean is significantly less than the known population mean. "
   ]
  },
  {
   "cell_type": "code",
   "execution_count": 20,
   "id": "regulation-bargain",
   "metadata": {},
   "outputs": [],
   "source": [
    "# calculate the test statistic for our sample \n",
    "# first define the numbers\n",
    "\n",
    "sample_mean = 80.94\n",
    "pop_mean= 85\n",
    "sampl_std= 11.6 \n",
    "n=25 "
   ]
  },
  {
   "cell_type": "code",
   "execution_count": 21,
   "id": "divided-recording",
   "metadata": {},
   "outputs": [
    {
     "data": {
      "text/plain": [
       "-1.7146428199482255"
      ]
     },
     "execution_count": 21,
     "metadata": {},
     "output_type": "execute_result"
    }
   ],
   "source": [
    "# statistic = (sample_mean -pop_mean)/(sampl_std/sqrt(n-1))\n",
    "\n",
    "statistic= (sample_mean-pop_mean)/(sampl_std/math.sqrt(n-1))\n",
    "statistic"
   ]
  },
  {
   "cell_type": "code",
   "execution_count": 15,
   "id": "rapid-compound",
   "metadata": {},
   "outputs": [
    {
     "data": {
      "text/plain": [
       "-1.6448536269514729"
      ]
     },
     "execution_count": 15,
     "metadata": {},
     "output_type": "execute_result"
    }
   ],
   "source": [
    "# is this statistically significant? - 0.05 is convention \n",
    "\n",
    "critical_value= norm.ppf(0.05)\n",
    "critical_value"
   ]
  },
  {
   "cell_type": "code",
   "execution_count": 24,
   "id": "automatic-constant",
   "metadata": {},
   "outputs": [
    {
     "data": {
      "text/plain": [
       "0.04320536648684992"
      ]
     },
     "execution_count": 24,
     "metadata": {},
     "output_type": "execute_result"
    }
   ],
   "source": [
    "# calculate the p value and confirm it is less than 0.05 (hence, this is statistically significant)\n",
    "pvalue = norm.cdf(statistic)\n",
    "pvalue"
   ]
  },
  {
   "cell_type": "markdown",
   "id": "cosmetic-course",
   "metadata": {},
   "source": [
    "#### finding - we have enough evidence acc to our tests, from our small sample, to reject the null hypothesis \n"
   ]
  },
  {
   "cell_type": "code",
   "execution_count": 22,
   "id": "subtle-demographic",
   "metadata": {},
   "outputs": [
    {
     "data": {
      "text/plain": [
       "84.8347503513441"
      ]
     },
     "execution_count": 22,
     "metadata": {},
     "output_type": "execute_result"
    }
   ],
   "source": [
    "# confidence interval for our sample test - useful if plotting the mean collected\n",
    "absoluteZ = abs(norm.ppf(0.05))\n",
    "upperCI = sample_mean + absoluteZ*sampl_std/math.sqrt(n-1)\n",
    "upperCI\n"
   ]
  },
  {
   "cell_type": "code",
   "execution_count": 23,
   "id": "functioning-practice",
   "metadata": {},
   "outputs": [
    {
     "data": {
      "text/plain": [
       "77.0452496486559"
      ]
     },
     "execution_count": 23,
     "metadata": {},
     "output_type": "execute_result"
    }
   ],
   "source": [
    "lowerCI = sample_mean - absoluteZ*sampl_std/math.sqrt(n-1)\n",
    "lowerCI"
   ]
  },
  {
   "cell_type": "markdown",
   "id": "packed-player",
   "metadata": {},
   "source": [
    "### what about if our sample had revealed higher than expected weights?"
   ]
  },
  {
   "cell_type": "code",
   "execution_count": 35,
   "id": "capable-field",
   "metadata": {},
   "outputs": [],
   "source": [
    "# for a 1 tailed test on the right only (ie mean > 85) \n",
    "# we would calculate the p value and critical value differently \n",
    "# lets work through this with different sample results (higher weight of the 25 boys)\n",
    "\n",
    "sample_mean = 88.94\n",
    "pop_mean = 85\n",
    "pop_std = 11.6\n",
    "n = 25"
   ]
  },
  {
   "cell_type": "code",
   "execution_count": 36,
   "id": "historic-blank",
   "metadata": {},
   "outputs": [
    {
     "data": {
      "text/plain": [
       "1.6639637218216752"
      ]
     },
     "execution_count": 36,
     "metadata": {},
     "output_type": "execute_result"
    }
   ],
   "source": [
    "statistic= (sample_mean-pop_mean)/(sampl_std/math.sqrt(n-1))\n",
    "statistic"
   ]
  },
  {
   "cell_type": "code",
   "execution_count": 37,
   "id": "damaged-ghost",
   "metadata": {},
   "outputs": [
    {
     "data": {
      "text/plain": [
       "0.04805983971686589"
      ]
     },
     "execution_count": 37,
     "metadata": {},
     "output_type": "execute_result"
    }
   ],
   "source": [
    "pvalue = 1-norm.cdf(statistic)\n",
    "pvalue"
   ]
  },
  {
   "cell_type": "code",
   "execution_count": 38,
   "id": "aerial-simple",
   "metadata": {},
   "outputs": [
    {
     "data": {
      "text/plain": [
       "1.6448536269514722"
      ]
     },
     "execution_count": 38,
     "metadata": {},
     "output_type": "execute_result"
    }
   ],
   "source": [
    "critical_value= norm.ppf(1-0.05)\n",
    "critical_value"
   ]
  },
  {
   "cell_type": "markdown",
   "id": "personalized-necklace",
   "metadata": {},
   "source": [
    "### and if we dont care if its below or above the average, just that its different - a 2 tailed t test using the t distribution"
   ]
  },
  {
   "cell_type": "code",
   "execution_count": 39,
   "id": "excited-attachment",
   "metadata": {},
   "outputs": [],
   "source": [
    "# same data as for our case study\n",
    "# we are looking for a result that is significantly less or more than the expected mean : \n",
    "\n",
    "sample_mean = 80.94\n",
    "pop_mean= 85\n",
    "sampl_std= 11.6 \n",
    "n=25 "
   ]
  },
  {
   "cell_type": "code",
   "execution_count": 40,
   "id": "boxed-tender",
   "metadata": {},
   "outputs": [
    {
     "data": {
      "text/plain": [
       "-1.7146428199482255"
      ]
     },
     "execution_count": 40,
     "metadata": {},
     "output_type": "execute_result"
    }
   ],
   "source": [
    "#calculation for test statistic is the same \n",
    "statistic= (sample_mean-pop_mean)/(sampl_std/math.sqrt(n-1))\n",
    "statistic"
   ]
  },
  {
   "cell_type": "code",
   "execution_count": 45,
   "id": "fatty-beauty",
   "metadata": {},
   "outputs": [
    {
     "data": {
      "text/plain": [
       "-2.063898561628021"
      ]
     },
     "execution_count": 45,
     "metadata": {},
     "output_type": "execute_result"
    }
   ],
   "source": [
    "# on the left side the critical value would be drawn from the t distribution,\n",
    "# using 0.05 split into 2 pieces \n",
    "critical_value=t.ppf( 0.025, n-1)\n",
    "critical_value"
   ]
  },
  {
   "cell_type": "markdown",
   "id": "valuable-catholic",
   "metadata": {},
   "source": [
    "### as you can see the critical value is higher and harder to achieve on a 2 tailed test. \n",
    "#### in this case, we havent quite reached the threshold to reject the null hypothesis. Another sample is required "
   ]
  },
  {
   "cell_type": "code",
   "execution_count": null,
   "id": "fancy-integrity",
   "metadata": {},
   "outputs": [],
   "source": []
  }
 ],
 "metadata": {
  "kernelspec": {
   "display_name": "Python 3",
   "language": "python",
   "name": "python3"
  },
  "language_info": {
   "codemirror_mode": {
    "name": "ipython",
    "version": 3
   },
   "file_extension": ".py",
   "mimetype": "text/x-python",
   "name": "python",
   "nbconvert_exporter": "python",
   "pygments_lexer": "ipython3",
   "version": "3.8.5"
  }
 },
 "nbformat": 4,
 "nbformat_minor": 5
}
